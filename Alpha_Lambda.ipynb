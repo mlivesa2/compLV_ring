{
 "cells": [
  {
   "cell_type": "code",
   "execution_count": 43,
   "metadata": {
    "collapsed": false
   },
   "outputs": [],
   "source": [
    "from math import *\n",
    "import numpy as np\n",
    "import matplotlib.pyplot as plt\n",
    "import pandas as pd\n",
    "import scipy.linalg as lin"
   ]
  },
  {
   "cell_type": "code",
   "execution_count": 395,
   "metadata": {
    "collapsed": false
   },
   "outputs": [
    {
     "name": "stdout",
     "output_type": "stream",
     "text": [
      "[[  1.           1.           1.           1.           1.           1.        ]\n",
      " [  3.73205081   3.           2.           1.           0.26794919   0.        ]\n",
      " [  7.46410162   4.           1.           0.           0.53589838   1.        ]\n",
      " [ 11.19615242   3.           0.           1.           0.80384758   0.        ]\n",
      " [ 13.92820323   1.           1.           1.           0.07179677   1.        ]\n",
      " [ 14.92820323   0.           2.           0.           1.07179677   0.        ]]\n"
     ]
    }
   ],
   "source": [
    "N = 12\n",
    "D = N//2\n",
    "mymat = np.matrix([[(1-np.cos(2 * np.pi * i * j / N))/(1-np.cos(2 * np.pi * j / N)) \n",
    "            for j in range(1,D+1)] for i in range(1,D+1)])\n",
    "\n",
    "\n",
    "symmat = mymat*mymat.T\n",
    "print(mymat)\n",
    "#print(symmat)\n",
    "#print(lin.norm(lin.eig(symmat)[1][:,0]))\n",
    "\n",
    "\n",
    "## det(M) = N^((D-1)/2)*(2Ind_{n == 0,1,2,3 mod8}(N) - 1)\n",
    "#print(lin.det(mymat))\n",
    "#print(log(abs(lin.det(mymat)),N))\n",
    "#print(N**((D-1)/2))\n",
    "\n",
    "## Note the sum of the rows\n",
    "#ones = np.matrix(np.ones((D,1)))\n",
    "#print(mymat*ones)"
   ]
  },
  {
   "cell_type": "code",
   "execution_count": 374,
   "metadata": {
    "collapsed": false
   },
   "outputs": [
    {
     "name": "stdout",
     "output_type": "stream",
     "text": [
      "0.375\n",
      "[[ 0.134  0.5    1.     1.5    1.866  2.   ]\n",
      " [ 0.5    1.5    2.     1.5    0.5    0.   ]\n",
      " [ 1.     2.     1.     0.     1.     2.   ]\n",
      " [ 1.5    1.5    0.     1.5    1.5    0.   ]\n",
      " [ 1.866  0.5    1.     1.5    0.134  2.   ]\n",
      " [ 2.     0.     2.     0.     2.     0.   ]]\n",
      "[[ 11.   6.   8.   6.   8.   6.]\n",
      " [  6.   9.   6.   6.   6.   6.]\n",
      " [  8.   6.  11.   6.   8.   6.]\n",
      " [  6.   6.   6.   9.   6.   6.]\n",
      " [  8.   6.   8.   6.  11.   6.]\n",
      " [  6.   6.   6.   6.   6.  12.]]\n",
      "34991.99999999997\n",
      "498.8306325798367\n",
      "70.1480577065\n",
      "42.696\n",
      "34992.0\n"
     ]
    }
   ],
   "source": [
    "N = 12\n",
    "D = N//2\n",
    "mymat = np.matrix([[(1-np.cos(2 * np.pi * i * j / N)) for j in range(1,D+1)] for i in range(1,D+1)])\n",
    "\n",
    "mydenom = np.matrix([[(1-np.cos(2 * np.pi * j / N)) for j in range(1,D+1)]])\n",
    "print(np.prod(mydenom))\n",
    "\n",
    "\n",
    "print(mymat.round(3))\n",
    "symmat = mymat*mymat.T\n",
    "print(symmat)\n",
    "\n",
    "print(lin.det(symmat))\n",
    "print(N**((D-1)/2.))\n",
    "print(N**((D-1)/2.)*(np.prod(mydenom)**2))\n",
    "print(lin.eig(symmat)[0][0].round(3).real)\n",
    "#((lin.eig(symmat)[0][0])*np.matrix(lin.eig(symmat)[1][:,0]).T*np.matrix(lin.eig(symmat)[1][:,0])).round(3).real\n",
    "((lin.eig(mymat)[0][0])*np.matrix(lin.eig(mymat)[1][:,0]).T*np.matrix(lin.eig(mymat)[1][:,0])).round(3).real\n",
    "lin.logm(symmat).round(3)\n",
    "print(2**(-D+3) * D**(D+1))"
   ]
  },
  {
   "cell_type": "code",
   "execution_count": 369,
   "metadata": {
    "collapsed": false
   },
   "outputs": [
    {
     "name": "stdout",
     "output_type": "stream",
     "text": [
      "498.8306325798367\n",
      "498.8306325798367\n"
     ]
    }
   ],
   "source": [
    "mat = np.matrix([[(i*j)%2 for j in range(1,D+1)] for i in range(1,D+1)])\n",
    "mat\n",
    "#lin.eig(symmat)[0].round(2).real\n",
    "print((2*6)**((6-1)/2.))\n",
    "print(N**((D-1)/2.))"
   ]
  },
  {
   "cell_type": "code",
   "execution_count": null,
   "metadata": {
    "collapsed": true
   },
   "outputs": [],
   "source": []
  }
 ],
 "metadata": {
  "anaconda-cloud": {},
  "kernelspec": {
   "display_name": "Python [default]",
   "language": "python",
   "name": "python3"
  },
  "language_info": {
   "codemirror_mode": {
    "name": "ipython",
    "version": 3
   },
   "file_extension": ".py",
   "mimetype": "text/x-python",
   "name": "python",
   "nbconvert_exporter": "python",
   "pygments_lexer": "ipython3",
   "version": "3.5.3"
  }
 },
 "nbformat": 4,
 "nbformat_minor": 1
}
